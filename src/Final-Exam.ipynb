{
 "cells": [
  {
   "cell_type": "markdown",
   "id": "e8058d70",
   "metadata": {},
   "source": [
    "## This task is based on dataset \n",
    "https://www.kaggle.com/datasets/thedevastator/medical-student-mental-health\n",
    "## It is made by Tilman Gabriel and Nazar Stegmann"
   ]
  },
  {
   "cell_type": "code",
   "execution_count": null,
   "id": "ce537bc9",
   "metadata": {},
   "outputs": [],
   "source": [
    "%pip install pandas\n",
    "%pip install StandardScaler            \n",
    "%pip install matplotlib \n",
    "%pip install seaborn"
   ]
  },
  {
   "cell_type": "code",
   "execution_count": 9,
   "id": "6bc085ea",
   "metadata": {},
   "outputs": [],
   "source": [
    "import pandas as pd\n",
    "\n",
    "\n",
    "df = pd.read_csv('data/Data.csv')"
   ]
  }
 ],
 "metadata": {
  "kernelspec": {
   "display_name": "venv",
   "language": "python",
   "name": "python3"
  },
  "language_info": {
   "codemirror_mode": {
    "name": "ipython",
    "version": 3
   },
   "file_extension": ".py",
   "mimetype": "text/x-python",
   "name": "python",
   "nbconvert_exporter": "python",
   "pygments_lexer": "ipython3",
   "version": "3.12.3"
  }
 },
 "nbformat": 4,
 "nbformat_minor": 5
}
